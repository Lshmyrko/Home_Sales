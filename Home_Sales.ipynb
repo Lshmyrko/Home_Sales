{
  "cells": [
    {
      "cell_type": "markdown",
      "metadata": {
        "id": "view-in-github",
        "colab_type": "text"
      },
      "source": [
        "<a href=\"https://colab.research.google.com/github/Lshmyrko/Home_Sales/blob/main/Home_Sales.ipynb\" target=\"_parent\"><img src=\"https://colab.research.google.com/assets/colab-badge.svg\" alt=\"Open In Colab\"/></a>"
      ]
    },
    {
      "cell_type": "code",
      "execution_count": 2,
      "metadata": {
        "colab": {
          "base_uri": "https://localhost:8080/"
        },
        "id": "a_KW73O2e3dw",
        "outputId": "bf8197a5-05fa-49f5-cc50-a4024252d950"
      },
      "outputs": [
        {
          "output_type": "stream",
          "name": "stdout",
          "text": [
            "\r0% [Working]\r            \rGet:1 https://cloud.r-project.org/bin/linux/ubuntu jammy-cran40/ InRelease [3,626 B]\n",
            "\r0% [Waiting for headers] [Connecting to security.ubuntu.com] [1 InRelease 0 B/3,626 B 0%] [Connectin\r0% [Waiting for headers] [Connecting to security.ubuntu.com] [Connecting to ppa.launchpadcontent.net\r                                                                                                    \rHit:2 https://developer.download.nvidia.com/compute/cuda/repos/ubuntu2204/x86_64  InRelease\n",
            "Hit:3 http://archive.ubuntu.com/ubuntu jammy InRelease\n",
            "Get:4 http://archive.ubuntu.com/ubuntu jammy-updates InRelease [119 kB]\n",
            "Get:5 https://cloud.r-project.org/bin/linux/ubuntu jammy-cran40/ Packages [50.4 kB]\n",
            "Get:6 http://security.ubuntu.com/ubuntu jammy-security InRelease [110 kB]\n",
            "Hit:7 http://archive.ubuntu.com/ubuntu jammy-backports InRelease\n",
            "Get:8 http://archive.ubuntu.com/ubuntu jammy-updates/universe amd64 Packages [1,346 kB]\n",
            "Hit:9 https://ppa.launchpadcontent.net/c2d4u.team/c2d4u4.0+/ubuntu jammy InRelease\n",
            "Get:10 http://security.ubuntu.com/ubuntu jammy-security/universe amd64 Packages [1,074 kB]\n",
            "Hit:11 https://ppa.launchpadcontent.net/deadsnakes/ppa/ubuntu jammy InRelease\n",
            "Get:12 http://archive.ubuntu.com/ubuntu jammy-updates/main amd64 Packages [1,796 kB]\n",
            "Hit:13 https://ppa.launchpadcontent.net/graphics-drivers/ppa/ubuntu jammy InRelease\n",
            "Get:14 http://security.ubuntu.com/ubuntu jammy-security/main amd64 Packages [1,517 kB]\n",
            "Hit:15 https://ppa.launchpadcontent.net/ubuntugis/ppa/ubuntu jammy InRelease\n",
            "Fetched 6,017 kB in 1s (4,646 kB/s)\n",
            "Reading package lists... Done\n"
          ]
        }
      ],
      "source": [
        "import os\n",
        "# Find the latest version of spark 3.x  from http://www.apache.org/dist/spark/ and enter as the spark version\n",
        "# For example:\n",
        "# spark_version = 'spark-3.5.0'\n",
        "spark_version = 'spark-3.5.1'\n",
        "os.environ['SPARK_VERSION']=spark_version\n",
        "\n",
        "# Install Spark and Java\n",
        "!apt-get update\n",
        "!apt-get install openjdk-11-jdk-headless -qq > /dev/null\n",
        "!wget -q http://www.apache.org/dist/spark/$SPARK_VERSION/$SPARK_VERSION-bin-hadoop3.tgz\n",
        "!tar xf $SPARK_VERSION-bin-hadoop3.tgz\n",
        "!pip install -q findspark\n",
        "\n",
        "# Set Environment Variables\n",
        "os.environ[\"JAVA_HOME\"] = \"/usr/lib/jvm/java-11-openjdk-amd64\"\n",
        "os.environ[\"SPARK_HOME\"] = f\"/content/{spark_version}-bin-hadoop3\"\n",
        "\n",
        "# Start a SparkSession\n",
        "import findspark\n",
        "findspark.init()"
      ]
    },
    {
      "cell_type": "code",
      "execution_count": 3,
      "metadata": {
        "id": "2XbWNf1Te5fM"
      },
      "outputs": [],
      "source": [
        "# Import packages\n",
        "from pyspark.sql import SparkSession\n",
        "import time\n",
        "\n",
        "# Create a SparkSession\n",
        "spark = SparkSession.builder.appName(\"SparkSQL\").getOrCreate()"
      ]
    },
    {
      "cell_type": "code",
      "execution_count": 4,
      "metadata": {
        "id": "wOJqxG_RPSwp"
      },
      "outputs": [],
      "source": [
        "# 1. Read in the AWS S3 bucket into a DataFrame.\n",
        "from pyspark import SparkFiles\n",
        "url = \"https://2u-data-curriculum-team.s3.amazonaws.com/dataviz-classroom/v1.2/22-big-data/home_sales_revised.csv\"\n",
        "\n"
      ]
    },
    {
      "cell_type": "code",
      "execution_count": 5,
      "metadata": {
        "id": "RoljcJ7WPpnm",
        "colab": {
          "base_uri": "https://localhost:8080/"
        },
        "outputId": "e722dc37-697f-41dd-adc4-30b0debf5b6d"
      },
      "outputs": [
        {
          "output_type": "stream",
          "name": "stdout",
          "text": [
            "+--------------------+----------+----------+------+--------+---------+-----------+--------+------+----------+----+\n",
            "|                  id|      date|date_built| price|bedrooms|bathrooms|sqft_living|sqft_lot|floors|waterfront|view|\n",
            "+--------------------+----------+----------+------+--------+---------+-----------+--------+------+----------+----+\n",
            "|f8a53099-ba1c-47d...|2022-04-08|      2016|936923|       4|        3|       3167|   11733|     2|         1|  76|\n",
            "|7530a2d8-1ae3-451...|2021-06-13|      2013|379628|       2|        2|       2235|   14384|     1|         0|  23|\n",
            "|43de979c-0bf0-4c9...|2019-04-12|      2014|417866|       2|        2|       2127|   10575|     2|         0|   0|\n",
            "|b672c137-b88c-48b...|2019-10-16|      2016|239895|       2|        2|       1631|   11149|     2|         0|   0|\n",
            "|e0726d4d-d595-407...|2022-01-08|      2017|424418|       3|        2|       2249|   13878|     2|         0|   4|\n",
            "+--------------------+----------+----------+------+--------+---------+-----------+--------+------+----------+----+\n",
            "only showing top 5 rows\n",
            "\n"
          ]
        }
      ],
      "source": [
        "# 2. Create a temporary view of the DataFrame.\n",
        "import urllib.request\n",
        "\n",
        "# Download the CSV file locally\n",
        "local_file_path = \"/tmp/home_sales_revised.csv\"\n",
        "urllib.request.urlretrieve(url, local_file_path)\n",
        "\n",
        "# Read the locally downloaded CSV file into a DataFrame\n",
        "df = spark.read.option(\"header\", \"true\").csv(\"file://\" + local_file_path)\n",
        "\n",
        "# Show the first few rows of the DataFrame\n",
        "df.show(5)\n",
        "\n",
        "# Create a temporary view of the DataFrame\n",
        "df.createOrReplaceTempView(\"home_sales_view\")\n",
        "\n",
        "\n"
      ]
    },
    {
      "cell_type": "code",
      "execution_count": 6,
      "metadata": {
        "id": "L6fkwOeOmqvq",
        "colab": {
          "base_uri": "https://localhost:8080/"
        },
        "outputId": "11a02e3c-772c-442a-8d3e-1e6d266a4a94"
      },
      "outputs": [
        {
          "output_type": "stream",
          "name": "stdout",
          "text": [
            "root\n",
            " |-- id: string (nullable = true)\n",
            " |-- date: string (nullable = true)\n",
            " |-- date_built: string (nullable = true)\n",
            " |-- price: string (nullable = true)\n",
            " |-- bedrooms: string (nullable = true)\n",
            " |-- bathrooms: string (nullable = true)\n",
            " |-- sqft_living: string (nullable = true)\n",
            " |-- sqft_lot: string (nullable = true)\n",
            " |-- floors: string (nullable = true)\n",
            " |-- waterfront: string (nullable = true)\n",
            " |-- view: string (nullable = true)\n",
            "\n",
            "+----+------------------+\n",
            "|year|     average_price|\n",
            "+----+------------------+\n",
            "|2019| 300263.6955128205|\n",
            "|2020|298353.78003169573|\n",
            "|2021|   301819.44398864|\n",
            "|2022| 296363.8845050215|\n",
            "+----+------------------+\n",
            "\n"
          ]
        }
      ],
      "source": [
        "# 3. What is the average price for a four bedroom house sold per year, rounded to two decimal places?\n",
        "# Display the schema of the DataFrame\n",
        "df.printSchema()\n",
        "\n",
        "# Perform a SQL query to calculate the average price for a four-bedroom house per year\n",
        "query = \"\"\"\n",
        "SELECT\n",
        "    SUBSTRING(date, 1, 4) AS year,\n",
        "    AVG(CAST(price AS DOUBLE)) AS average_price\n",
        "FROM\n",
        "    home_sales_view\n",
        "WHERE\n",
        "    bedrooms = 4\n",
        "GROUP BY\n",
        "    SUBSTRING(date, 1, 4)\n",
        "ORDER BY\n",
        "    year\n",
        "\"\"\"\n",
        "\n",
        "# Run the query and show the result\n",
        "result = spark.sql(query)\n",
        "result.show()\n"
      ]
    },
    {
      "cell_type": "code",
      "execution_count": 7,
      "metadata": {
        "id": "l8p_tUS8h8it",
        "colab": {
          "base_uri": "https://localhost:8080/"
        },
        "outputId": "f9757ef7-1a92-498b-9106-565ee3d4fed8"
      },
      "outputs": [
        {
          "output_type": "stream",
          "name": "stdout",
          "text": [
            "+----------+------------------+\n",
            "|year_built|     average_price|\n",
            "+----------+------------------+\n",
            "|      2010|  292859.615942029|\n",
            "|      2011|291117.46706586826|\n",
            "|      2012| 293683.1872074883|\n",
            "|      2013|295962.27145085804|\n",
            "|      2014| 290852.2661870504|\n",
            "|      2015| 288770.2966101695|\n",
            "|      2016|  290555.073964497|\n",
            "|      2017| 292676.7887740029|\n",
            "+----------+------------------+\n",
            "\n"
          ]
        }
      ],
      "source": [
        "# 4. What is the average price of a home for each year the home was built,\n",
        "# that have 3 bedrooms and 3 bathrooms, rounded to two decimal places?\n",
        "query = \"\"\"\n",
        "SELECT\n",
        "    date_built AS year_built,\n",
        "    AVG(CAST(price AS DOUBLE)) AS average_price\n",
        "FROM\n",
        "    home_sales_view\n",
        "WHERE\n",
        "    bedrooms = 3\n",
        "    AND bathrooms = 3\n",
        "GROUP BY\n",
        "    date_built\n",
        "ORDER BY\n",
        "    date_built\n",
        "\"\"\"\n",
        "\n",
        "# Run the query and show the result\n",
        "result = spark.sql(query)\n",
        "result.show()\n"
      ]
    },
    {
      "cell_type": "code",
      "execution_count": 8,
      "metadata": {
        "id": "Y-Eytz64liDU",
        "colab": {
          "base_uri": "https://localhost:8080/"
        },
        "outputId": "304afc01-093b-40d0-941d-5a4d30e2f42f"
      },
      "outputs": [
        {
          "output_type": "stream",
          "name": "stdout",
          "text": [
            "+----------+------------------+\n",
            "|year_built|     average_price|\n",
            "+----------+------------------+\n",
            "|      2010| 285010.2215909091|\n",
            "|      2011| 276553.8128654971|\n",
            "|      2012|307539.97402597405|\n",
            "|      2013|      303676.79375|\n",
            "|      2014| 298264.7183908046|\n",
            "|      2015| 297609.9679144385|\n",
            "|      2016| 293965.1046511628|\n",
            "|      2017|280317.57692307694|\n",
            "+----------+------------------+\n",
            "\n"
          ]
        }
      ],
      "source": [
        "# 5. What is the average price of a home for each year the home was built,\n",
        "# that have 3 bedrooms, 3 bathrooms, with two floors,\n",
        "# and are greater than or equal to 2,000 square feet, rounded to two decimal places?\n",
        "query = \"\"\"\n",
        "SELECT\n",
        "    date_built AS year_built,\n",
        "    AVG(CAST(price AS DOUBLE)) AS average_price\n",
        "FROM\n",
        "    home_sales_view\n",
        "WHERE\n",
        "    bedrooms = 3\n",
        "    AND bathrooms = 3\n",
        "    AND floors = 2\n",
        "    AND sqft_living >= 2000\n",
        "GROUP BY\n",
        "    date_built\n",
        "ORDER BY\n",
        "    date_built\n",
        "\"\"\"\n",
        "\n",
        "# Run the query and show the result\n",
        "result = spark.sql(query)\n",
        "result.show()\n"
      ]
    },
    {
      "cell_type": "code",
      "execution_count": 9,
      "metadata": {
        "colab": {
          "base_uri": "https://localhost:8080/"
        },
        "id": "GUrfgOX1pCRd",
        "outputId": "d5c56194-a202-415a-82f7-fa567fb33e3b"
      },
      "outputs": [
        {
          "output_type": "stream",
          "name": "stdout",
          "text": [
            "+----+------------------+\n",
            "|view|     average_price|\n",
            "+----+------------------+\n",
            "|  99|1061201.4193548388|\n",
            "|  98|1053739.3333333333|\n",
            "|  97| 1129040.148148148|\n",
            "|  96|1017815.9166666666|\n",
            "|  95|         1054325.6|\n",
            "|  94|         1033536.2|\n",
            "|  93|1026006.0606060605|\n",
            "|  92| 970402.5476190476|\n",
            "|  91| 1137372.731707317|\n",
            "|  90|1062654.1621621621|\n",
            "|  89|        1107839.15|\n",
            "|  88|1031719.3548387097|\n",
            "|  87|         1072285.2|\n",
            "|  86|        1070444.25|\n",
            "|  85|1056336.7435897435|\n",
            "|  84|1117233.1290322582|\n",
            "|  83|       1033965.925|\n",
            "|  82|         1063498.0|\n",
            "|  81|1053472.7878787878|\n",
            "|  80| 991767.3783783783|\n",
            "+----+------------------+\n",
            "only showing top 20 rows\n",
            "\n",
            "--- 0.875967264175415 seconds ---\n"
          ]
        }
      ],
      "source": [
        "# 6. What is the average price of a home per \"view\" rating, rounded to two decimal places,\n",
        "# having an average home price greater than or equal to $350,000? Order by descending view rating.\n",
        "# Although this is a small dataset, determine the run time for this query.\n",
        "# Perform a SQL query to calculate the average price per \"view\" rating\n",
        "query = \"\"\"\n",
        "SELECT\n",
        "    view,\n",
        "    AVG(CAST(price AS DOUBLE)) AS average_price\n",
        "FROM\n",
        "    home_sales_view\n",
        "GROUP BY\n",
        "    view\n",
        "HAVING\n",
        "    AVG(CAST(price AS DOUBLE)) >= 350000\n",
        "ORDER BY\n",
        "    view DESC\n",
        "\"\"\"\n",
        "\n",
        "# Start the timer\n",
        "start_time = time.time()\n",
        "\n",
        "# Run the query and show the result\n",
        "result = spark.sql(query)\n",
        "result.show()\n",
        "\n",
        "# Stop the timer and print the runtime\n",
        "print(\"--- %s seconds ---\" % (time.time() - start_time))\n",
        "\n",
        "\n"
      ]
    },
    {
      "cell_type": "code",
      "execution_count": 10,
      "metadata": {
        "id": "KAhk3ZD2tFy8"
      },
      "outputs": [],
      "source": [
        "# 7. Cache the the temporary table home_sales.\n",
        "spark.catalog.cacheTable(\"home_sales_view\")"
      ]
    },
    {
      "cell_type": "code",
      "execution_count": 12,
      "metadata": {
        "id": "4opVhbvxtL-i",
        "colab": {
          "base_uri": "https://localhost:8080/"
        },
        "outputId": "4f9e1fe3-5185-4115-ca0b-82c7c7355355"
      },
      "outputs": [
        {
          "output_type": "execute_result",
          "data": {
            "text/plain": [
              "True"
            ]
          },
          "metadata": {},
          "execution_count": 12
        }
      ],
      "source": [
        "# 8. Check if the table is cached.\n",
        "spark.catalog.isCached('home_sales_view')"
      ]
    },
    {
      "cell_type": "code",
      "execution_count": 16,
      "metadata": {
        "colab": {
          "base_uri": "https://localhost:8080/"
        },
        "id": "5GnL46lwTSEk",
        "outputId": "f3e0f15b-cdc9-457e-c29f-5a0e56ef47dd"
      },
      "outputs": [
        {
          "output_type": "stream",
          "name": "stdout",
          "text": [
            "+----+------------------+\n",
            "|view|     average_price|\n",
            "+----+------------------+\n",
            "|  99|1061201.4193548388|\n",
            "|  98|1053739.3333333333|\n",
            "|  97| 1129040.148148148|\n",
            "|  96|1017815.9166666666|\n",
            "|  95|         1054325.6|\n",
            "|  94|         1033536.2|\n",
            "|  93|1026006.0606060605|\n",
            "|  92| 970402.5476190476|\n",
            "|  91| 1137372.731707317|\n",
            "|  90|1062654.1621621621|\n",
            "|  89|        1107839.15|\n",
            "|  88|1031719.3548387097|\n",
            "|  87|         1072285.2|\n",
            "|  86|        1070444.25|\n",
            "|  85|1056336.7435897435|\n",
            "|  84|1117233.1290322582|\n",
            "|  83|       1033965.925|\n",
            "|  82|         1063498.0|\n",
            "|  81|1053472.7878787878|\n",
            "|  80| 991767.3783783783|\n",
            "+----+------------------+\n",
            "only showing top 20 rows\n",
            "\n",
            "--- 2.369760274887085 seconds ---\n"
          ]
        }
      ],
      "source": [
        "# 9. Using the cached data, run the last query above, that calculates\n",
        "# the average price of a home per \"view\" rating, rounded to two decimal places,\n",
        "# having an average home price greater than or equal to $350,000.\n",
        "# Determine the runtime and compare it to the uncached runtime.\n",
        "\n",
        "start_time = time.time()\n",
        "\n",
        "# Run the query using the cached data\n",
        "result_cached = spark.sql(query)\n",
        "result_cached.show()\n",
        "\n",
        "print(\"--- %s seconds ---\" % (time.time() - start_time))\n"
      ]
    },
    {
      "cell_type": "code",
      "execution_count": 19,
      "metadata": {
        "id": "Qm12WN9isHBR"
      },
      "outputs": [],
      "source": [
        "# 10. Partition by the \"date_built\" field on the formatted parquet home sales data\n",
        "parquet_path = \"/tmp/home_sales_partitioned.parquet\"\n",
        "df.write.partitionBy(\"date_built\").parquet(parquet_path)"
      ]
    },
    {
      "cell_type": "code",
      "execution_count": 20,
      "metadata": {
        "id": "AZ7BgY61sRqY",
        "colab": {
          "base_uri": "https://localhost:8080/"
        },
        "outputId": "8696558b-30e0-44dc-a65f-e312aef7851d"
      },
      "outputs": [
        {
          "output_type": "stream",
          "name": "stdout",
          "text": [
            "+--------------------+----------+------+--------+---------+-----------+--------+------+----------+----+----------+\n",
            "|                  id|      date| price|bedrooms|bathrooms|sqft_living|sqft_lot|floors|waterfront|view|date_built|\n",
            "+--------------------+----------+------+--------+---------+-----------+--------+------+----------+----+----------+\n",
            "|2ed8d509-7372-46d...|2021-08-06|258710|       3|        3|       1918|    9666|     1|         0|  25|      2015|\n",
            "|941bad30-eb49-4a7...|2020-05-09|229896|       3|        3|       2197|    8641|     1|         0|   3|      2015|\n",
            "|c797ca12-52cd-4b1...|2019-06-08|288650|       2|        3|       2100|   10419|     2|         0|   7|      2015|\n",
            "|0cfe57f3-28c2-472...|2019-10-04|308313|       3|        3|       1960|    9453|     2|         0|   2|      2015|\n",
            "|d715f295-2fbf-4e9...|2021-05-17|391574|       3|        2|       1635|    8040|     2|         0|  10|      2015|\n",
            "+--------------------+----------+------+--------+---------+-----------+--------+------+----------+----+----------+\n",
            "only showing top 5 rows\n",
            "\n"
          ]
        }
      ],
      "source": [
        "# 11. Read the parquet formatted data.\n",
        "partitioned_df = spark.read.parquet(parquet_path)\n",
        "partitioned_df.show(5)"
      ]
    },
    {
      "cell_type": "code",
      "execution_count": 21,
      "metadata": {
        "id": "J6MJkHfvVcvh"
      },
      "outputs": [],
      "source": [
        "# 12. Create a temporary table for the parquet data.\n",
        "partitioned_df.createOrReplaceTempView(\"home_sales_partitioned_view\")\n"
      ]
    },
    {
      "cell_type": "code",
      "execution_count": 23,
      "metadata": {
        "colab": {
          "base_uri": "https://localhost:8080/"
        },
        "id": "G_Vhb52rU1Sn",
        "outputId": "43d4fe1c-3b29-4ba2-86fd-17532f84b969"
      },
      "outputs": [
        {
          "output_type": "stream",
          "name": "stdout",
          "text": [
            "+----+------------------+\n",
            "|view|     average_price|\n",
            "+----+------------------+\n",
            "|  99|1061201.4193548388|\n",
            "|  98|1053739.3333333333|\n",
            "|  97| 1129040.148148148|\n",
            "|  96|1017815.9166666666|\n",
            "|  95|         1054325.6|\n",
            "|  94|         1033536.2|\n",
            "|  93|1026006.0606060605|\n",
            "|  92| 970402.5476190476|\n",
            "|  91| 1137372.731707317|\n",
            "|  90|1062654.1621621621|\n",
            "|  89|        1107839.15|\n",
            "|  88|1031719.3548387097|\n",
            "|  87|         1072285.2|\n",
            "|  86|        1070444.25|\n",
            "|  85|1056336.7435897435|\n",
            "|  84|1117233.1290322582|\n",
            "|  83|       1033965.925|\n",
            "|  82|         1063498.0|\n",
            "|  81|1053472.7878787878|\n",
            "|  80| 991767.3783783783|\n",
            "+----+------------------+\n",
            "only showing top 20 rows\n",
            "\n",
            "--- 0.5634124279022217 seconds ---\n"
          ]
        }
      ],
      "source": [
        "# 13. Using the parquet DataFrame, run the last query above, that calculates\n",
        "# the average price of a home per \"view\" rating, rounded to two decimal places,\n",
        "# having an average home price greater than or equal to $350,000.\n",
        "# Determine the runtime and compare it to the cached runtime.\n",
        "\n",
        "\n",
        "# Define the SQL query\n",
        "query_partitioned = \"\"\"\n",
        "SELECT\n",
        "    view,\n",
        "    AVG(CAST(price AS DOUBLE)) AS average_price\n",
        "FROM\n",
        "    home_sales_partitioned_view\n",
        "GROUP BY\n",
        "    view\n",
        "HAVING\n",
        "    AVG(CAST(price AS DOUBLE)) >= 350000\n",
        "ORDER BY\n",
        "    view DESC\n",
        "\"\"\"\n",
        "\n",
        "# Start the timer\n",
        "start_time_partitioned = time.time()\n",
        "\n",
        "# Run the query on the partitioned data and show the result\n",
        "result_partitioned = spark.sql(query_partitioned)\n",
        "result_partitioned.show()\n",
        "\n",
        "# Stop the timer and print the runtime\n",
        "print(\"--- %s seconds ---\" % (time.time() - start_time_partitioned))\n"
      ]
    },
    {
      "cell_type": "code",
      "execution_count": 24,
      "metadata": {
        "id": "hjjYzQGjtbq8"
      },
      "outputs": [],
      "source": [
        "# 14. Uncache the home_sales temporary table.\n",
        "spark.catalog.uncacheTable(\"home_sales_view\")"
      ]
    },
    {
      "cell_type": "code",
      "execution_count": 25,
      "metadata": {
        "id": "Sy9NBvO7tlmm",
        "colab": {
          "base_uri": "https://localhost:8080/"
        },
        "outputId": "f75773b5-9da3-4423-b0a6-70b97abcf8de"
      },
      "outputs": [
        {
          "output_type": "stream",
          "name": "stdout",
          "text": [
            "Is home_sales_view cached? False\n"
          ]
        }
      ],
      "source": [
        "# 15. Check if the home_sales is no longer cached\n",
        "is_cached = spark.catalog.isCached('home_sales_view')\n",
        "print(\"Is home_sales_view cached?\", is_cached)\n"
      ]
    },
    {
      "cell_type": "code",
      "execution_count": null,
      "metadata": {
        "id": "Si-BNruRUGK3"
      },
      "outputs": [],
      "source": []
    }
  ],
  "metadata": {
    "colab": {
      "provenance": [],
      "include_colab_link": true
    },
    "gpuClass": "standard",
    "kernelspec": {
      "display_name": "Python 3 (ipykernel)",
      "language": "python",
      "name": "python3"
    },
    "language_info": {
      "codemirror_mode": {
        "name": "ipython",
        "version": 3
      },
      "file_extension": ".py",
      "mimetype": "text/x-python",
      "name": "python",
      "nbconvert_exporter": "python",
      "pygments_lexer": "ipython3",
      "version": "3.10.4"
    },
    "nteract": {
      "version": "0.28.0"
    }
  },
  "nbformat": 4,
  "nbformat_minor": 0
}